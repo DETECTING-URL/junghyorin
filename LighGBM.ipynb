{
  "nbformat": 4,
  "nbformat_minor": 0,
  "metadata": {
    "colab": {
      "provenance": []
    },
    "kernelspec": {
      "name": "python3",
      "display_name": "Python 3"
    },
    "language_info": {
      "name": "python"
    }
  },
  "cells": [
    {
      "cell_type": "code",
      "execution_count": 1,
      "metadata": {
        "colab": {
          "base_uri": "https://localhost:8080/"
        },
        "id": "uJ7zXppTTll2",
        "outputId": "2aca4cd2-f7ab-4581-849b-08eabcffee40"
      },
      "outputs": [
        {
          "output_type": "stream",
          "name": "stdout",
          "text": [
            "Mounted at /content/drive\n"
          ]
        }
      ],
      "source": [
        "from google.colab import drive\n",
        "drive.mount('/content/drive')"
      ]
    },
    {
      "cell_type": "code",
      "source": [
        "import lightgbm as lgb\n",
        "from sklearn.model_selection import train_test_split, GridSearchCV\n",
        "from sklearn.metrics import roc_auc_score\n",
        "from sklearn.preprocessing import StandardScaler"
      ],
      "metadata": {
        "id": "O6-Od7eeT6nG"
      },
      "execution_count": 2,
      "outputs": []
    },
    {
      "cell_type": "code",
      "source": [
        "import pandas as pd\n",
        "\n",
        "# 저장된 피처 튜닝 데이터 불러오기\n",
        "import pandas as pd\n",
        "train = pd.read_csv('/content/drive/MyDrive/악성 URL/DATA/train_FE')"
      ],
      "metadata": {
        "id": "hyjihSDQT6qb"
      },
      "execution_count": 3,
      "outputs": []
    },
    {
      "cell_type": "code",
      "source": [
        "train_df = train.loc[:,['URL', 'label', 'length', 'subdomain_count', 'special_char_count',\n",
        "       'number_of_meaning_words', 'tld_malicious', 'path_depth',\n",
        "       'max_numeric_sequence','https', 'blacklist_word_count',\n",
        "       'digit_count', 'suspicious_keyword_flag']]\n"
      ],
      "metadata": {
        "id": "zGx4qGG9T6uy"
      },
      "execution_count": 4,
      "outputs": []
    },
    {
      "cell_type": "code",
      "source": [
        "X,y = train_df.drop(columns=['URL','label']),train_df['label']\n",
        "X_train, X_test, y_train, y_test = train_test_split(X,y,test_size=0.2,random_state=42)"
      ],
      "metadata": {
        "id": "RvkVR_Z7T6x1"
      },
      "execution_count": 5,
      "outputs": []
    },
    {
      "cell_type": "code",
      "source": [
        "# LightGBM 하이퍼파라미터 그리드 설정\n",
        "param_grid = {\n",
        "    'n_estimators': [100, 200],  # 트리 개수\n",
        "    'learning_rate': [0.01, 0.1],  # 학습률\n",
        "    'max_depth': [20, 30],  # 최대 깊이\n",
        "    'num_leaves': [31, 50],  # 리프 노드 수\n",
        "    'min_child_samples': [25, 50, 100],  # 리프 노드의 최소 샘플 수\n",
        "    'colsample_bytree': [0.8, 1.0]  # 트리별 특성 샘플링 비율\n",
        "}\n",
        "\n",
        "# GridSearchCV 실행\n",
        "grid_search = GridSearchCV(\n",
        "    lgb.LGBMClassifier(),\n",
        "    param_grid,\n",
        "    cv=5,\n",
        "    n_jobs=-1,\n",
        "    verbose=1\n",
        ")\n",
        "\n",
        "grid_search.fit(X_train[:100000], y_train[:100000])\n",
        "\n",
        "# 최적의 파라미터 출력\n",
        "print('최적의 파라미터 조합:', grid_search.best_params_)"
      ],
      "metadata": {
        "colab": {
          "base_uri": "https://localhost:8080/"
        },
        "id": "DHWFDBIMUTq_",
        "outputId": "3e696a01-0973-49cf-8959-7982750d9d34"
      },
      "execution_count": 6,
      "outputs": [
        {
          "output_type": "stream",
          "name": "stdout",
          "text": [
            "Fitting 5 folds for each of 96 candidates, totalling 480 fits\n",
            "[LightGBM] [Info] Number of positive: 22394, number of negative: 77606\n",
            "[LightGBM] [Info] Auto-choosing row-wise multi-threading, the overhead of testing was 0.014511 seconds.\n",
            "You can set `force_row_wise=true` to remove the overhead.\n",
            "And if memory is not enough, you can set `force_col_wise=true`.\n",
            "[LightGBM] [Info] Total Bins 549\n",
            "[LightGBM] [Info] Number of data points in the train set: 100000, number of used features: 10\n",
            "[LightGBM] [Info] [binary:BoostFromScore]: pavg=0.223940 -> initscore=-1.242852\n",
            "[LightGBM] [Info] Start training from score -1.242852\n",
            "최적의 파라미터 조합: {'colsample_bytree': 1.0, 'learning_rate': 0.1, 'max_depth': 30, 'min_child_samples': 25, 'n_estimators': 200, 'num_leaves': 50}\n"
          ]
        }
      ]
    },
    {
      "cell_type": "code",
      "source": [
        "# 최적의 LightGBM 모델 가져오기\n",
        "LGBM_model = grid_search.best_estimator_\n",
        "\n",
        "# 테스트 데이터에 대한 예측 확률\n",
        "y_pred_proba = LGBM_model.predict_proba(X_test)[:, 1]\n",
        "\n",
        "# ROC AUC 점수 계산\n",
        "roc_auc = roc_auc_score(y_test, y_pred_proba)\n",
        "\n",
        "print(f'ROC AUC Score: {roc_auc}')"
      ],
      "metadata": {
        "colab": {
          "base_uri": "https://localhost:8080/"
        },
        "id": "a9iW-eWgUTt6",
        "outputId": "e3ab3b92-e40b-470d-f314-49c6f77008e6"
      },
      "execution_count": 7,
      "outputs": [
        {
          "output_type": "stream",
          "name": "stdout",
          "text": [
            "ROC AUC Score: 0.9276794504586703\n"
          ]
        }
      ]
    }
  ]
}