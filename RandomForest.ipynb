{
  "cells": [
    {
      "cell_type": "code",
      "execution_count": 3,
      "metadata": {
        "id": "scc6rNdVCYlv"
      },
      "outputs": [],
      "source": [
        "from sklearn.model_selection import train_test_split\n",
        "from sklearn.ensemble import RandomForestClassifier\n",
        "from sklearn.metrics import roc_auc_score\n",
        "from sklearn.preprocessing import StandardScaler\n"
      ]
    },
    {
      "cell_type": "code",
      "execution_count": 2,
      "metadata": {
        "colab": {
          "base_uri": "https://localhost:8080/"
        },
        "id": "nrGdnqUY-GU-",
        "outputId": "48f3f60f-7b81-476a-e79b-7a66b1b56cf6"
      },
      "outputs": [
        {
          "output_type": "stream",
          "name": "stdout",
          "text": [
            "Mounted at /content/drive\n"
          ]
        }
      ],
      "source": [
        "from google.colab import drive\n",
        "drive.mount('/content/drive')"
      ]
    },
    {
      "cell_type": "code",
      "execution_count": 4,
      "metadata": {
        "id": "bY4GmOOK95Y4"
      },
      "outputs": [],
      "source": [
        "import pandas as pd\n",
        "\n",
        "# 저장된 피처 튜닝 데이터 불러오기\n",
        "import pandas as pd\n",
        "train = pd.read_csv('/content/drive/MyDrive/악성 URL/DATA/train_FE')\n"
      ]
    },
    {
      "cell_type": "code",
      "execution_count": 5,
      "metadata": {
        "id": "DodkgcyKBjVz"
      },
      "outputs": [],
      "source": [
        "train_df = train.loc[:,['URL', 'label', 'length', 'subdomain_count', 'special_char_count',\n",
        "       'number_of_meaning_words', 'tld_malicious', 'path_depth',\n",
        "       'max_numeric_sequence','https', 'blacklist_word_count',\n",
        "       'digit_count', 'suspicious_keyword_flag']]\n",
        "\n"
      ]
    },
    {
      "cell_type": "code",
      "source": [
        "X,y = train_df.drop(columns=['URL','label']),train_df['label']\n",
        "X_train, X_test, y_train, y_test = train_test_split(X,y,test_size=0.2,random_state=42)"
      ],
      "metadata": {
        "id": "DIQ5tSFxwJ_q"
      },
      "execution_count": 6,
      "outputs": []
    },
    {
      "cell_type": "code",
      "source": [
        "from sklearn.model_selection import GridSearchCV\n",
        "\n",
        "param_grid = {\n",
        "    'n_estimators': [100, 200],  # 트리 개수\n",
        "    'criterion': ['gini'],  # 데이터 분할 기준\n",
        "    'max_depth': [20, 30],  # 트리 최대 깊이 (과적합 방지)\n",
        "    'min_samples_split': [50, 100, 200],  # 노드 분할 최소 샘플 수\n",
        "    'min_samples_leaf': [25, 50, 100],  # 리프 노드의 최소 샘플 수\n",
        "    'max_features': ['sqrt', 'log2']  # 각 노드에서 사용할 특성 수\n",
        "}\n",
        "\n",
        "grid_search = GridSearchCV(\n",
        "    RandomForestClassifier(),\n",
        "    param_grid,\n",
        "    cv=5,\n",
        "    n_jobs=-1,\n",
        "    verbose=1\n",
        ")\n",
        "\n",
        "grid_search.fit(X_train[:100000], y_train[:100000])\n",
        "\n",
        "print('최적의 파라미터 조합:', grid_search.best_params_)\n"
      ],
      "metadata": {
        "colab": {
          "base_uri": "https://localhost:8080/"
        },
        "id": "YfUAPBY0KMXM",
        "outputId": "2e6b7f33-376a-418e-f5d5-68b9386a0e27"
      },
      "execution_count": 7,
      "outputs": [
        {
          "output_type": "stream",
          "name": "stdout",
          "text": [
            "Fitting 5 folds for each of 72 candidates, totalling 360 fits\n",
            "최적의 파라미터 조합: {'criterion': 'gini', 'max_depth': 30, 'max_features': 'sqrt', 'min_samples_leaf': 25, 'min_samples_split': 50, 'n_estimators': 200}\n"
          ]
        }
      ]
    },
    {
      "cell_type": "code",
      "source": [
        "from sklearn.metrics import roc_auc_score\n",
        "\n",
        "# 최적의 모델 가져오기\n",
        "Decision_model = grid_search.best_estimator_\n",
        "\n",
        "# 테스트 데이터에 대한 예측 확률\n",
        "y_pred_proba = Decision_model.predict_proba(X_test)[:, 1]\n",
        "\n",
        "# ROC AUC 점수 계산\n",
        "roc_auc = roc_auc_score(y_test, y_pred_proba)\n",
        "\n",
        "print(f'ROC AUC Score: {roc_auc}')\n",
        "\n"
      ],
      "metadata": {
        "colab": {
          "base_uri": "https://localhost:8080/"
        },
        "id": "nQE0LhsdRiGt",
        "outputId": "f33d06f7-779a-430e-e4df-51e6710177f3"
      },
      "execution_count": 10,
      "outputs": [
        {
          "output_type": "stream",
          "name": "stdout",
          "text": [
            "ROC AUC Score: 0.9247168510896445\n"
          ]
        }
      ]
    }
  ],
  "metadata": {
    "colab": {
      "provenance": []
    },
    "kernelspec": {
      "display_name": "Python 3",
      "name": "python3"
    },
    "language_info": {
      "name": "python"
    }
  },
  "nbformat": 4,
  "nbformat_minor": 0
}